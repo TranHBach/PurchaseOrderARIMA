{
 "cells": [
  {
   "cell_type": "code",
   "execution_count": null,
   "metadata": {},
   "outputs": [
    {
     "ename": "",
     "evalue": "",
     "output_type": "error",
     "traceback": [
      "\u001b[1;31mRunning cells with 'Python 3.7.0' requires the ipykernel package.\n",
      "\u001b[1;31mRun the following command to install 'ipykernel' into the Python environment. \n",
      "\u001b[1;31mCommand: '\"c:/Users/TRAN HUU BACH/AppData/Local/Programs/Python/Python37/python.exe\" -m pip install ipykernel -U --user --force-reinstall'"
     ]
    }
   ],
   "source": [
    "import pandas as pd\n",
    "from statsmodels.tsa.arima.model import ARIMA\n",
    "import numpy as np\n",
    "import matplotlib.pyplot as plt\n",
    "from statsmodels.tsa.stattools import adfuller;\n",
    "from datetime import timedelta\n",
    "import pmdarima as pm\n",
    "from pmdarima import model_selection\n",
    "import statsmodels.api as sm\n",
    "import warnings"
   ]
  },
  {
   "cell_type": "code",
   "execution_count": null,
   "metadata": {},
   "outputs": [],
   "source": [
    "data = pd.read_csv('bike_sales.csv')\n",
    "purchase_order_detail = pd.read_csv('purchaseOrderDetail.csv')\n",
    "purchase_order_header = pd.read_csv('purchaseOrderHeader.csv')\n",
    "bill_of_material = pd.read_csv('billOfMaterial.csv')\n",
    "product_inventory = pd.read_csv('productInventory.csv')\n",
    "product = pd.read_csv('product.csv')"
   ]
  },
  {
   "cell_type": "code",
   "execution_count": null,
   "metadata": {},
   "outputs": [],
   "source": [
    "purchase_order_detail = pd.merge(\n",
    "    purchase_order_header,\n",
    "    purchase_order_detail,\n",
    "    on='PurchaseOrderID',\n",
    "    how='inner'\n",
    ")\n",
    "purchase_order_detail['OrderDate'] = pd.to_datetime(purchase_order_detail['OrderDate'])\n",
    "data['OrderDate'] = pd.to_datetime(data['OrderDate'])\n",
    "data['Week'] = data['OrderDate'].dt.isocalendar().week\n",
    "data['Year'] = data['OrderDate'].dt.year\n",
    "weekly_sales = data.groupby(['Year', 'Week', 'ProductID'])['OrderQty'].sum().reset_index()\n",
    "last_order_date = data['OrderDate'].max()\n"
   ]
  },
  {
   "cell_type": "code",
   "execution_count": null,
   "metadata": {},
   "outputs": [],
   "source": [
    "data['OrderDate'] = pd.to_datetime(data['OrderDate'])\n",
    "data['Month'] = data['OrderDate'].dt.to_period('M')\n",
    "monthly_sales = data.groupby(['Month', 'ProductID'])['OrderQty'].sum().reset_index()\n",
    "last_order_date = data['OrderDate'].max()\n"
   ]
  },
  {
   "cell_type": "code",
   "execution_count": null,
   "metadata": {},
   "outputs": [],
   "source": [
    "def get_all_components(product_id, bom_data, multiplier=1, memo=None):\n",
    "    if memo is None:\n",
    "        memo = {}\n",
    "    # If endDate is not null then it's no longer used.\n",
    "    components = bom_data[\n",
    "        (bom_data['ProductAssemblyID'] == product_id) & \n",
    "        (pd.isna(bom_data['EndDate']))\n",
    "    ]\n",
    "    \n",
    "    if len(components) == 0:\n",
    "        components = bom_data[bom_data['ProductAssemblyID'] == product_id]\n",
    "        if len(components) == 0:\n",
    "            return memo\n",
    "    \n",
    "    for _, row in components.iterrows():\n",
    "        component_id = row['ComponentID']\n",
    "        qty = row['PerAssemblyQty'] * multiplier\n",
    "        memo[component_id] = memo.get(component_id, 0) + qty\n",
    "        get_all_components(component_id, bom_data, qty, memo)\n",
    "    return memo\n"
   ]
  },
  {
   "cell_type": "code",
   "execution_count": null,
   "metadata": {},
   "outputs": [],
   "source": []
  },
  {
   "cell_type": "code",
   "execution_count": null,
   "metadata": {},
   "outputs": [],
   "source": [
    "predicted_sales = []\n",
    "purchaseOrderIncrement = {}\n"
   ]
  },
  {
   "cell_type": "code",
   "execution_count": null,
   "metadata": {},
   "outputs": [],
   "source": [
    "for product_id in weekly_sales['ProductID'].unique():\n",
    "    product_sales = weekly_sales[weekly_sales['ProductID'] == product_id].copy()\n",
    "\n",
    "    product_sales['Date'] = product_sales.apply(lambda row: f\"{int(row['Year'])}-W{int(row['Week']):02d}-1\", axis=1)\n",
    "    product_sales['Date'] = pd.to_datetime(product_sales['Date'], format=\"%Y-W%U-%w\")\n",
    "    if product_sales['Date'].max() < last_order_date - timedelta(days=7):\n",
    "        continue\n",
    "    product_sales = product_sales.set_index('Date').sort_index()\n",
    "    product_sales.reset_index()\n",
    "    product_sales.index = pd.DatetimeIndex(product_sales.index).to_period('W')\n",
    "    with warnings.catch_warnings():\n",
    "        warnings.filterwarnings('ignore')\n",
    "        p,d,q = 3,0,2\n",
    "        model = sm.tsa.SARIMAX(endog=product_sales['OrderQty'], order=(5,d,q), seasonal_order=(1,d,q,6), disp=False)\n",
    "        model_fit = model.fit(disp=False)\n",
    "        forecast = model_fit.forecast(steps=1)\n",
    "        plt.figure(figsize=(12, 6))\n",
    "        plt.scatter(range(len(product_sales)), product_sales['OrderQty'], \n",
    "                color='blue', label='Historical Sales', marker='o')\n",
    "        plt.scatter(len(product_sales), forecast.values[0], \n",
    "                color='red', label='Prediction', marker='x', s=100)\n",
    "        plt.title(f'Sales History and Prediction for Product {product_id}')\n",
    "        plt.xlabel('Time Period (Weeks)')\n",
    "        plt.ylabel('Order Quantity')\n",
    "        plt.legend()\n",
    "        plt.grid(True)\n",
    "        plt.show()\n",
    "    last_week_sales = product_sales['OrderQty'].iloc[-1]\n",
    "    precentageIncrease = forecast.values[0] / last_week_sales\n",
    "    componentList = get_all_components(product_id, bill_of_material)\n",
    "    for component_id, qty in componentList.items():\n",
    "        if component_id not in purchaseOrderIncrement:\n",
    "            purchaseOrderIncrement[component_id] = {'count': 1, 'total_increase': precentageIncrease}\n",
    "        else:\n",
    "            purchaseOrderIncrement[component_id]['count'] += 1\n",
    "            purchaseOrderIncrement[component_id]['total_increase'] += precentageIncrease\n",
    "    \n",
    "    predicted_sales.append({\n",
    "        'ProductID': product_id,\n",
    "        'PredictedOrderQty': forecast.values[0],\n",
    "        'LastWeekSales': product_sales['OrderQty'].iloc[-1],\n",
    "        'PercentageIncrease': precentageIncrease\n",
    "    })\n"
   ]
  },
  {
   "cell_type": "code",
   "execution_count": null,
   "metadata": {},
   "outputs": [],
   "source": [
    "for component_id in componentList.keys():\n",
    "    if component_id in purchaseOrderIncrement:\n",
    "        avg_increase = purchaseOrderIncrement[component_id]['total_increase'] / purchaseOrderIncrement[component_id]['count']\n",
    "        productPurchase = purchase_order_detail[purchase_order_detail['ProductID'] == component_id]\n",
    "        productPurchase = productPurchase[productPurchase['OrderDate'] >= last_order_date - timedelta(days=7)]\n",
    "        purchaseOrderIncrement[component_id]['purchase_order'] = productPurchase['OrderQty'].sum() * avg_increase\n",
    "    else:\n",
    "        purchaseOrderIncrement[component_id] = {'purchase_order': 0}\n"
   ]
  },
  {
   "cell_type": "code",
   "execution_count": null,
   "metadata": {},
   "outputs": [],
   "source": [
    "predicted_sales_df = pd.DataFrame(predicted_sales)\n",
    "predicted_sales_df.to_csv('predicted_sales.csv', index=False)\n",
    "print(predicted_sales_df)\n",
    "for component_id in purchaseOrderIncrement.keys():\n",
    "    if 'purchase_order' in purchaseOrderIncrement[component_id]:\n",
    "        print(f'Component ID: {component_id}, Purchase Order: {purchaseOrderIncrement[component_id][\"purchase_order\"]}')\n"
   ]
  },
  {
   "cell_type": "code",
   "execution_count": null,
   "metadata": {},
   "outputs": [],
   "source": []
  }
 ],
 "metadata": {
  "kernelspec": {
   "display_name": "Python 3",
   "language": "python",
   "name": "python3"
  },
  "language_info": {
   "codemirror_mode": {
    "name": "ipython",
    "version": 3
   },
   "file_extension": ".py",
   "mimetype": "text/x-python",
   "name": "python",
   "nbconvert_exporter": "python",
   "pygments_lexer": "ipython3",
   "version": "3.7.0"
  }
 },
 "nbformat": 4,
 "nbformat_minor": 2
}
